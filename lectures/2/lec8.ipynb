{
 "cells": [
  {
   "cell_type": "code",
   "execution_count": 2,
   "metadata": {},
   "outputs": [],
   "source": [
    "from datascience import *\n",
    "import numpy as np\n",
    "\n",
    "import matplotlib.pyplot as plots\n",
    "plots.style.use('fivethirtyeight')\n",
    "%matplotlib inline"
   ]
  },
  {
   "cell_type": "markdown",
   "metadata": {},
   "source": [
    "## A/B Testing"
   ]
  },
  {
   "cell_type": "markdown",
   "metadata": {},
   "source": [
    "**Please run all cells before this cell, including the import cell at the top of the notebook.**"
   ]
  },
  {
   "cell_type": "code",
   "execution_count": 3,
   "metadata": {},
   "outputs": [
    {
     "data": {
      "text/html": [
       "<table border=\"1\" class=\"dataframe\">\n",
       "    <thead>\n",
       "        <tr>\n",
       "            <th>Birth Weight</th> <th>Gestational Days</th> <th>Maternal Age</th> <th>Maternal Height</th> <th>Maternal Pregnancy Weight</th> <th>Maternal Smoker</th>\n",
       "        </tr>\n",
       "    </thead>\n",
       "    <tbody>\n",
       "        <tr>\n",
       "            <td>120         </td> <td>284             </td> <td>27          </td> <td>62             </td> <td>100                      </td> <td>False          </td>\n",
       "        </tr>\n",
       "        <tr>\n",
       "            <td>113         </td> <td>282             </td> <td>33          </td> <td>64             </td> <td>135                      </td> <td>False          </td>\n",
       "        </tr>\n",
       "        <tr>\n",
       "            <td>128         </td> <td>279             </td> <td>28          </td> <td>64             </td> <td>115                      </td> <td>True           </td>\n",
       "        </tr>\n",
       "        <tr>\n",
       "            <td>108         </td> <td>282             </td> <td>23          </td> <td>67             </td> <td>125                      </td> <td>True           </td>\n",
       "        </tr>\n",
       "        <tr>\n",
       "            <td>136         </td> <td>286             </td> <td>25          </td> <td>62             </td> <td>93                       </td> <td>False          </td>\n",
       "        </tr>\n",
       "        <tr>\n",
       "            <td>138         </td> <td>244             </td> <td>33          </td> <td>62             </td> <td>178                      </td> <td>False          </td>\n",
       "        </tr>\n",
       "        <tr>\n",
       "            <td>132         </td> <td>245             </td> <td>23          </td> <td>65             </td> <td>140                      </td> <td>False          </td>\n",
       "        </tr>\n",
       "        <tr>\n",
       "            <td>120         </td> <td>289             </td> <td>25          </td> <td>62             </td> <td>125                      </td> <td>False          </td>\n",
       "        </tr>\n",
       "        <tr>\n",
       "            <td>143         </td> <td>299             </td> <td>30          </td> <td>66             </td> <td>136                      </td> <td>True           </td>\n",
       "        </tr>\n",
       "        <tr>\n",
       "            <td>140         </td> <td>351             </td> <td>27          </td> <td>68             </td> <td>120                      </td> <td>False          </td>\n",
       "        </tr>\n",
       "    </tbody>\n",
       "</table>\n",
       "<p>... (1164 rows omitted)</p>"
      ],
      "text/plain": [
       "Birth Weight | Gestational Days | Maternal Age | Maternal Height | Maternal Pregnancy Weight | Maternal Smoker\n",
       "120          | 284              | 27           | 62              | 100                       | False\n",
       "113          | 282              | 33           | 64              | 135                       | False\n",
       "128          | 279              | 28           | 64              | 115                       | True\n",
       "108          | 282              | 23           | 67              | 125                       | True\n",
       "136          | 286              | 25           | 62              | 93                        | False\n",
       "138          | 244              | 33           | 62              | 178                       | False\n",
       "132          | 245              | 23           | 65              | 140                       | False\n",
       "120          | 289              | 25           | 62              | 125                       | False\n",
       "143          | 299              | 30           | 66              | 136                       | True\n",
       "140          | 351              | 27           | 68              | 120                       | False\n",
       "... (1164 rows omitted)"
      ]
     },
     "execution_count": 3,
     "metadata": {},
     "output_type": "execute_result"
    }
   ],
   "source": [
    "baby = Table.read_table('baby.csv')\n",
    "baby"
   ]
  },
  {
   "cell_type": "code",
   "execution_count": 4,
   "metadata": {},
   "outputs": [
    {
     "data": {
      "text/html": [
       "<table border=\"1\" class=\"dataframe\">\n",
       "    <thead>\n",
       "        <tr>\n",
       "            <th>Maternal Smoker</th> <th>Birth Weight</th>\n",
       "        </tr>\n",
       "    </thead>\n",
       "    <tbody>\n",
       "        <tr>\n",
       "            <td>False          </td> <td>120         </td>\n",
       "        </tr>\n",
       "        <tr>\n",
       "            <td>False          </td> <td>113         </td>\n",
       "        </tr>\n",
       "        <tr>\n",
       "            <td>True           </td> <td>128         </td>\n",
       "        </tr>\n",
       "        <tr>\n",
       "            <td>True           </td> <td>108         </td>\n",
       "        </tr>\n",
       "        <tr>\n",
       "            <td>False          </td> <td>136         </td>\n",
       "        </tr>\n",
       "        <tr>\n",
       "            <td>False          </td> <td>138         </td>\n",
       "        </tr>\n",
       "        <tr>\n",
       "            <td>False          </td> <td>132         </td>\n",
       "        </tr>\n",
       "        <tr>\n",
       "            <td>False          </td> <td>120         </td>\n",
       "        </tr>\n",
       "        <tr>\n",
       "            <td>True           </td> <td>143         </td>\n",
       "        </tr>\n",
       "        <tr>\n",
       "            <td>False          </td> <td>140         </td>\n",
       "        </tr>\n",
       "    </tbody>\n",
       "</table>\n",
       "<p>... (1164 rows omitted)</p>"
      ],
      "text/plain": [
       "Maternal Smoker | Birth Weight\n",
       "False           | 120\n",
       "False           | 113\n",
       "True            | 128\n",
       "True            | 108\n",
       "False           | 136\n",
       "False           | 138\n",
       "False           | 132\n",
       "False           | 120\n",
       "True            | 143\n",
       "False           | 140\n",
       "... (1164 rows omitted)"
      ]
     },
     "execution_count": 4,
     "metadata": {},
     "output_type": "execute_result"
    }
   ],
   "source": [
    "smoking_and_birthweight = baby.select('Maternal Smoker', 'Birth Weight')\n",
    "smoking_and_birthweight"
   ]
  },
  {
   "cell_type": "code",
   "execution_count": 5,
   "metadata": {},
   "outputs": [
    {
     "data": {
      "text/html": [
       "<table border=\"1\" class=\"dataframe\">\n",
       "    <thead>\n",
       "        <tr>\n",
       "            <th>Maternal Smoker</th> <th>count</th>\n",
       "        </tr>\n",
       "    </thead>\n",
       "    <tbody>\n",
       "        <tr>\n",
       "            <td>False          </td> <td>715  </td>\n",
       "        </tr>\n",
       "        <tr>\n",
       "            <td>True           </td> <td>459  </td>\n",
       "        </tr>\n",
       "    </tbody>\n",
       "</table>"
      ],
      "text/plain": [
       "Maternal Smoker | count\n",
       "False           | 715\n",
       "True            | 459"
      ]
     },
     "execution_count": 5,
     "metadata": {},
     "output_type": "execute_result"
    }
   ],
   "source": [
    "smoking_and_birthweight.group('Maternal Smoker')"
   ]
  },
  {
   "cell_type": "code",
   "execution_count": 6,
   "metadata": {},
   "outputs": [
    {
     "data": {
      "image/png": "[encoded data removed]",
      "text/plain": [
       "<Figure size 600x400 with 1 Axes>"
      ]
     },
     "metadata": {},
     "output_type": "display_data"
    }
   ],
   "source": [
    "smoking_and_birthweight.hist('Birth Weight', group='Maternal Smoker')"
   ]
  },
  {
   "cell_type": "code",
   "execution_count": 7,
   "metadata": {},
   "outputs": [
    {
     "data": {
      "text/html": [
       "<table border=\"1\" class=\"dataframe\">\n",
       "    <thead>\n",
       "        <tr>\n",
       "            <th>Maternal Smoker</th> <th>Birth Weight average</th>\n",
       "        </tr>\n",
       "    </thead>\n",
       "    <tbody>\n",
       "        <tr>\n",
       "            <td>False          </td> <td>123.085             </td>\n",
       "        </tr>\n",
       "        <tr>\n",
       "            <td>True           </td> <td>113.819             </td>\n",
       "        </tr>\n",
       "    </tbody>\n",
       "</table>"
      ],
      "text/plain": [
       "Maternal Smoker | Birth Weight average\n",
       "False           | 123.085\n",
       "True            | 113.819"
      ]
     },
     "execution_count": 7,
     "metadata": {},
     "output_type": "execute_result"
    }
   ],
   "source": [
    "means_tbl = smoking_and_birthweight.group('Maternal Smoker', np.average)\n",
    "means_tbl"
   ]
  },
  {
   "cell_type": "code",
   "execution_count": 8,
   "metadata": {},
   "outputs": [
    {
     "data": {
      "text/plain": [
       "9.266142572024918"
      ]
     },
     "execution_count": 8,
     "metadata": {},
     "output_type": "execute_result"
    }
   ],
   "source": [
    "means = means_tbl.column(1)\n",
    "observed_difference = means.item(0) - means.item(1)\n",
    "observed_difference"
   ]
  },
  {
   "cell_type": "code",
   "execution_count": 9,
   "metadata": {},
   "outputs": [
    {
     "data": {
      "text/html": [
       "<table border=\"1\" class=\"dataframe\">\n",
       "    <thead>\n",
       "        <tr>\n",
       "            <th>Birth Weight</th>\n",
       "        </tr>\n",
       "    </thead>\n",
       "    <tbody>\n",
       "        <tr>\n",
       "            <td>120         </td>\n",
       "        </tr>\n",
       "        <tr>\n",
       "            <td>113         </td>\n",
       "        </tr>\n",
       "        <tr>\n",
       "            <td>128         </td>\n",
       "        </tr>\n",
       "        <tr>\n",
       "            <td>108         </td>\n",
       "        </tr>\n",
       "        <tr>\n",
       "            <td>136         </td>\n",
       "        </tr>\n",
       "        <tr>\n",
       "            <td>138         </td>\n",
       "        </tr>\n",
       "        <tr>\n",
       "            <td>132         </td>\n",
       "        </tr>\n",
       "        <tr>\n",
       "            <td>120         </td>\n",
       "        </tr>\n",
       "        <tr>\n",
       "            <td>143         </td>\n",
       "        </tr>\n",
       "        <tr>\n",
       "            <td>140         </td>\n",
       "        </tr>\n",
       "    </tbody>\n",
       "</table>\n",
       "<p>... (1164 rows omitted)</p>"
      ],
      "text/plain": [
       "Birth Weight\n",
       "120\n",
       "113\n",
       "128\n",
       "108\n",
       "136\n",
       "138\n",
       "132\n",
       "120\n",
       "143\n",
       "140\n",
       "... (1164 rows omitted)"
      ]
     },
     "execution_count": 9,
     "metadata": {},
     "output_type": "execute_result"
    }
   ],
   "source": [
    "weights = smoking_and_birthweight.select('Birth Weight')\n",
    "weights"
   ]
  },
  {
   "cell_type": "code",
   "execution_count": 10,
   "metadata": {},
   "outputs": [
    {
     "data": {
      "text/html": [
       "<table border=\"1\" class=\"dataframe\">\n",
       "    <thead>\n",
       "        <tr>\n",
       "            <th>Birth Weight</th>\n",
       "        </tr>\n",
       "    </thead>\n",
       "    <tbody>\n",
       "        <tr>\n",
       "            <td>141         </td>\n",
       "        </tr>\n",
       "        <tr>\n",
       "            <td>78          </td>\n",
       "        </tr>\n",
       "        <tr>\n",
       "            <td>78          </td>\n",
       "        </tr>\n",
       "        <tr>\n",
       "            <td>154         </td>\n",
       "        </tr>\n",
       "        <tr>\n",
       "            <td>115         </td>\n",
       "        </tr>\n",
       "        <tr>\n",
       "            <td>91          </td>\n",
       "        </tr>\n",
       "        <tr>\n",
       "            <td>109         </td>\n",
       "        </tr>\n",
       "        <tr>\n",
       "            <td>92          </td>\n",
       "        </tr>\n",
       "        <tr>\n",
       "            <td>119         </td>\n",
       "        </tr>\n",
       "        <tr>\n",
       "            <td>85          </td>\n",
       "        </tr>\n",
       "    </tbody>\n",
       "</table>\n",
       "<p>... (1164 rows omitted)</p>"
      ],
      "text/plain": [
       "Birth Weight\n",
       "141\n",
       "78\n",
       "78\n",
       "154\n",
       "115\n",
       "91\n",
       "109\n",
       "92\n",
       "119\n",
       "85\n",
       "... (1164 rows omitted)"
      ]
     },
     "execution_count": 10,
     "metadata": {},
     "output_type": "execute_result"
    }
   ],
   "source": [
    "weights.sample(with_replacement=False)"
   ]
  },
  {
   "cell_type": "code",
   "execution_count": 11,
   "metadata": {},
   "outputs": [],
   "source": [
    "shuffled_weights = weights.sample(with_replacement=False).column(0)"
   ]
  },
  {
   "cell_type": "code",
   "execution_count": 12,
   "metadata": {},
   "outputs": [],
   "source": [
    "original_and_shuffled = smoking_and_birthweight.with_column(\n",
    "    'Shuffled Birth Weight', shuffled_weights\n",
    ")"
   ]
  },
  {
   "cell_type": "code",
   "execution_count": 13,
   "metadata": {},
   "outputs": [
    {
     "data": {
      "text/html": [
       "<table border=\"1\" class=\"dataframe\">\n",
       "    <thead>\n",
       "        <tr>\n",
       "            <th>Maternal Smoker</th> <th>Birth Weight</th> <th>Shuffled Birth Weight</th>\n",
       "        </tr>\n",
       "    </thead>\n",
       "    <tbody>\n",
       "        <tr>\n",
       "            <td>False          </td> <td>120         </td> <td>132                  </td>\n",
       "        </tr>\n",
       "        <tr>\n",
       "            <td>False          </td> <td>113         </td> <td>99                   </td>\n",
       "        </tr>\n",
       "        <tr>\n",
       "            <td>True           </td> <td>128         </td> <td>112                  </td>\n",
       "        </tr>\n",
       "        <tr>\n",
       "            <td>True           </td> <td>108         </td> <td>126                  </td>\n",
       "        </tr>\n",
       "        <tr>\n",
       "            <td>False          </td> <td>136         </td> <td>103                  </td>\n",
       "        </tr>\n",
       "        <tr>\n",
       "            <td>False          </td> <td>138         </td> <td>96                   </td>\n",
       "        </tr>\n",
       "        <tr>\n",
       "            <td>False          </td> <td>132         </td> <td>119                  </td>\n",
       "        </tr>\n",
       "        <tr>\n",
       "            <td>False          </td> <td>120         </td> <td>142                  </td>\n",
       "        </tr>\n",
       "        <tr>\n",
       "            <td>True           </td> <td>143         </td> <td>95                   </td>\n",
       "        </tr>\n",
       "        <tr>\n",
       "            <td>False          </td> <td>140         </td> <td>121                  </td>\n",
       "        </tr>\n",
       "    </tbody>\n",
       "</table>\n",
       "<p>... (1164 rows omitted)</p>"
      ],
      "text/plain": [
       "Maternal Smoker | Birth Weight | Shuffled Birth Weight\n",
       "False           | 120          | 132\n",
       "False           | 113          | 99\n",
       "True            | 128          | 112\n",
       "True            | 108          | 126\n",
       "False           | 136          | 103\n",
       "False           | 138          | 96\n",
       "False           | 132          | 119\n",
       "False           | 120          | 142\n",
       "True            | 143          | 95\n",
       "False           | 140          | 121\n",
       "... (1164 rows omitted)"
      ]
     },
     "execution_count": 13,
     "metadata": {},
     "output_type": "execute_result"
    }
   ],
   "source": [
    "original_and_shuffled"
   ]
  },
  {
   "cell_type": "code",
   "execution_count": 14,
   "metadata": {},
   "outputs": [
    {
     "data": {
      "text/html": [
       "<table border=\"1\" class=\"dataframe\">\n",
       "    <thead>\n",
       "        <tr>\n",
       "            <th>Maternal Smoker</th> <th>Birth Weight average</th> <th>Shuffled Birth Weight average</th>\n",
       "        </tr>\n",
       "    </thead>\n",
       "    <tbody>\n",
       "        <tr>\n",
       "            <td>False          </td> <td>123.085             </td> <td>120.161                      </td>\n",
       "        </tr>\n",
       "        <tr>\n",
       "            <td>True           </td> <td>113.819             </td> <td>118.375                      </td>\n",
       "        </tr>\n",
       "    </tbody>\n",
       "</table>"
      ],
      "text/plain": [
       "Maternal Smoker | Birth Weight average | Shuffled Birth Weight average\n",
       "False           | 123.085              | 120.161\n",
       "True            | 113.819              | 118.375"
      ]
     },
     "execution_count": 14,
     "metadata": {},
     "output_type": "execute_result"
    }
   ],
   "source": [
    "original_and_shuffled.group('Maternal Smoker', np.average)"
   ]
  },
  {
   "cell_type": "code",
   "execution_count": 15,
   "metadata": {},
   "outputs": [
    {
     "data": {
      "text/html": [
       "<table border=\"1\" class=\"dataframe\">\n",
       "    <thead>\n",
       "        <tr>\n",
       "            <th>Maternal Smoker</th>\n",
       "        </tr>\n",
       "    </thead>\n",
       "    <tbody>\n",
       "        <tr>\n",
       "            <td>False          </td>\n",
       "        </tr>\n",
       "        <tr>\n",
       "            <td>False          </td>\n",
       "        </tr>\n",
       "        <tr>\n",
       "            <td>True           </td>\n",
       "        </tr>\n",
       "        <tr>\n",
       "            <td>True           </td>\n",
       "        </tr>\n",
       "        <tr>\n",
       "            <td>False          </td>\n",
       "        </tr>\n",
       "        <tr>\n",
       "            <td>False          </td>\n",
       "        </tr>\n",
       "        <tr>\n",
       "            <td>False          </td>\n",
       "        </tr>\n",
       "        <tr>\n",
       "            <td>False          </td>\n",
       "        </tr>\n",
       "        <tr>\n",
       "            <td>True           </td>\n",
       "        </tr>\n",
       "        <tr>\n",
       "            <td>False          </td>\n",
       "        </tr>\n",
       "    </tbody>\n",
       "</table>\n",
       "<p>... (1164 rows omitted)</p>"
      ],
      "text/plain": [
       "Maternal Smoker\n",
       "False\n",
       "False\n",
       "True\n",
       "True\n",
       "False\n",
       "False\n",
       "False\n",
       "False\n",
       "True\n",
       "False\n",
       "... (1164 rows omitted)"
      ]
     },
     "execution_count": 15,
     "metadata": {},
     "output_type": "execute_result"
    }
   ],
   "source": [
    "group_labels = baby.select('Maternal Smoker')\n",
    "group_labels"
   ]
  },
  {
   "cell_type": "code",
   "execution_count": 16,
   "metadata": {},
   "outputs": [],
   "source": [
    "# array of shuffled weights\n",
    "\n",
    "# table with shuffled weights assigned to group labels\n",
    "\n",
    "# array of means of the two groups\n",
    "\n",
    "# difference between means of the two groups"
   ]
  },
  {
   "cell_type": "code",
   "execution_count": 17,
   "metadata": {},
   "outputs": [
    {
     "data": {
      "text/plain": [
       "-0.26007587184057"
      ]
     },
     "execution_count": 17,
     "metadata": {},
     "output_type": "execute_result"
    }
   ],
   "source": [
    "shuffled_weights = weights.sample(with_replacement=False).column(0)\n",
    "shuffled_tbl = group_labels.with_column('Shuffled Weight', shuffled_weights)\n",
    "means = shuffled_tbl.group('Maternal Smoker', np.average).column(1)\n",
    "new_difference = means.item(0) - means.item(1)\n",
    "new_difference"
   ]
  },
  {
   "cell_type": "code",
   "execution_count": 18,
   "metadata": {},
   "outputs": [],
   "source": [
    "differences = make_array()\n",
    "\n",
    "for i in np.arange(5000):\n",
    "    shuffled_weights = weights.sample(with_replacement = False).column(0)\n",
    "    shuffled_tbl = group_labels.with_column('Shuffled Weight', shuffled_weights)\n",
    "    means = shuffled_tbl.group('Maternal Smoker', np.average).column(1)\n",
    "    new_difference = means.item(0) - means.item(1)\n",
    "    differences = np.append(differences, new_difference)\n",
    "    "
   ]
  },
  {
   "cell_type": "code",
   "execution_count": 19,
   "metadata": {},
   "outputs": [
    {
     "data": {
      "image/png": "[encoded data removed]",
      "text/plain": [
       "<Figure size 600x400 with 1 Axes>"
      ]
     },
     "metadata": {},
     "output_type": "display_data"
    }
   ],
   "source": [
    "Table().with_column('Difference Between Means', differences).hist(bins=20, ec='w')"
   ]
  },
  {
   "cell_type": "code",
   "execution_count": 20,
   "metadata": {},
   "outputs": [
    {
     "data": {
      "text/plain": [
       "9.266142572024918"
      ]
     },
     "execution_count": 20,
     "metadata": {},
     "output_type": "execute_result"
    }
   ],
   "source": [
    "observed_difference"
   ]
  },
  {
   "cell_type": "markdown",
   "metadata": {},
   "source": [
    "## Deflategate"
   ]
  },
  {
   "cell_type": "markdown",
   "metadata": {},
   "source": [
    "**Please run all cells before this cell, including the previous example cells and the import cell at the top of the notebook.**"
   ]
  },
  {
   "cell_type": "code",
   "execution_count": 21,
   "metadata": {},
   "outputs": [
    {
     "data": {
      "text/html": [
       "<table border=\"1\" class=\"dataframe\">\n",
       "    <thead>\n",
       "        <tr>\n",
       "            <th>Team</th> <th>Blakeman</th> <th>Prioleau</th>\n",
       "        </tr>\n",
       "    </thead>\n",
       "    <tbody>\n",
       "        <tr>\n",
       "            <td>Patriots</td> <td>11.5    </td> <td>11.8    </td>\n",
       "        </tr>\n",
       "        <tr>\n",
       "            <td>Patriots</td> <td>10.85   </td> <td>11.2    </td>\n",
       "        </tr>\n",
       "        <tr>\n",
       "            <td>Patriots</td> <td>11.15   </td> <td>11.5    </td>\n",
       "        </tr>\n",
       "        <tr>\n",
       "            <td>Patriots</td> <td>10.7    </td> <td>11      </td>\n",
       "        </tr>\n",
       "        <tr>\n",
       "            <td>Patriots</td> <td>11.1    </td> <td>11.45   </td>\n",
       "        </tr>\n",
       "        <tr>\n",
       "            <td>Patriots</td> <td>11.6    </td> <td>11.95   </td>\n",
       "        </tr>\n",
       "        <tr>\n",
       "            <td>Patriots</td> <td>11.85   </td> <td>12.3    </td>\n",
       "        </tr>\n",
       "        <tr>\n",
       "            <td>Patriots</td> <td>11.1    </td> <td>11.55   </td>\n",
       "        </tr>\n",
       "        <tr>\n",
       "            <td>Patriots</td> <td>10.95   </td> <td>11.35   </td>\n",
       "        </tr>\n",
       "        <tr>\n",
       "            <td>Patriots</td> <td>10.5    </td> <td>10.9    </td>\n",
       "        </tr>\n",
       "        <tr>\n",
       "            <td>Patriots</td> <td>10.9    </td> <td>11.35   </td>\n",
       "        </tr>\n",
       "        <tr>\n",
       "            <td>Colts   </td> <td>12.7    </td> <td>12.35   </td>\n",
       "        </tr>\n",
       "        <tr>\n",
       "            <td>Colts   </td> <td>12.75   </td> <td>12.3    </td>\n",
       "        </tr>\n",
       "        <tr>\n",
       "            <td>Colts   </td> <td>12.5    </td> <td>12.95   </td>\n",
       "        </tr>\n",
       "        <tr>\n",
       "            <td>Colts   </td> <td>12.55   </td> <td>12.15   </td>\n",
       "        </tr>\n",
       "    </tbody>\n",
       "</table>"
      ],
      "text/plain": [
       "<IPython.core.display.HTML object>"
      ]
     },
     "metadata": {},
     "output_type": "display_data"
    }
   ],
   "source": [
    "football = Table.read_table('deflategate.csv')\n",
    "football.show()"
   ]
  },
  {
   "cell_type": "code",
   "execution_count": 22,
   "metadata": {},
   "outputs": [],
   "source": [
    "football = football.drop(1, 2).with_column(\n",
    "    'Combined', (football.column(1) + football.column(2)) / 2\n",
    ")"
   ]
  },
  {
   "cell_type": "code",
   "execution_count": 23,
   "metadata": {},
   "outputs": [
    {
     "data": {
      "text/html": [
       "<table border=\"1\" class=\"dataframe\">\n",
       "    <thead>\n",
       "        <tr>\n",
       "            <th>Team</th> <th>Combined</th>\n",
       "        </tr>\n",
       "    </thead>\n",
       "    <tbody>\n",
       "        <tr>\n",
       "            <td>Patriots</td> <td>11.65   </td>\n",
       "        </tr>\n",
       "        <tr>\n",
       "            <td>Patriots</td> <td>11.025  </td>\n",
       "        </tr>\n",
       "        <tr>\n",
       "            <td>Patriots</td> <td>11.325  </td>\n",
       "        </tr>\n",
       "        <tr>\n",
       "            <td>Patriots</td> <td>10.85   </td>\n",
       "        </tr>\n",
       "        <tr>\n",
       "            <td>Patriots</td> <td>11.275  </td>\n",
       "        </tr>\n",
       "        <tr>\n",
       "            <td>Patriots</td> <td>11.775  </td>\n",
       "        </tr>\n",
       "        <tr>\n",
       "            <td>Patriots</td> <td>12.075  </td>\n",
       "        </tr>\n",
       "        <tr>\n",
       "            <td>Patriots</td> <td>11.325  </td>\n",
       "        </tr>\n",
       "        <tr>\n",
       "            <td>Patriots</td> <td>11.15   </td>\n",
       "        </tr>\n",
       "        <tr>\n",
       "            <td>Patriots</td> <td>10.7    </td>\n",
       "        </tr>\n",
       "        <tr>\n",
       "            <td>Patriots</td> <td>11.125  </td>\n",
       "        </tr>\n",
       "        <tr>\n",
       "            <td>Colts   </td> <td>12.525  </td>\n",
       "        </tr>\n",
       "        <tr>\n",
       "            <td>Colts   </td> <td>12.525  </td>\n",
       "        </tr>\n",
       "        <tr>\n",
       "            <td>Colts   </td> <td>12.725  </td>\n",
       "        </tr>\n",
       "        <tr>\n",
       "            <td>Colts   </td> <td>12.35   </td>\n",
       "        </tr>\n",
       "    </tbody>\n",
       "</table>"
      ],
      "text/plain": [
       "<IPython.core.display.HTML object>"
      ]
     },
     "metadata": {},
     "output_type": "display_data"
    }
   ],
   "source": [
    "football.show()"
   ]
  },
  {
   "cell_type": "code",
   "execution_count": 24,
   "metadata": {},
   "outputs": [
    {
     "data": {
      "text/plain": [
       "array([ 1.,  1.,  1.,  1.,  1.])"
      ]
     },
     "execution_count": 24,
     "metadata": {},
     "output_type": "execute_result"
    }
   ],
   "source": [
    "np.ones(5)"
   ]
  },
  {
   "cell_type": "code",
   "execution_count": 25,
   "metadata": {},
   "outputs": [
    {
     "data": {
      "text/plain": [
       "array([ 12.5,  12.5,  12.5,  12.5,  12.5,  12.5,  12.5,  12.5,  12.5,\n",
       "        12.5,  12.5,  13. ,  13. ,  13. ,  13. ])"
      ]
     },
     "execution_count": 25,
     "metadata": {},
     "output_type": "execute_result"
    }
   ],
   "source": [
    "start = np.append(12.5 * np.ones(11), 13 * np.ones(4))\n",
    "start"
   ]
  },
  {
   "cell_type": "code",
   "execution_count": 26,
   "metadata": {},
   "outputs": [
    {
     "data": {
      "text/plain": [
       "array([ 0.85 ,  1.475,  1.175,  1.65 ,  1.225,  0.725,  0.425,  1.175,\n",
       "        1.35 ,  1.8  ,  1.375,  0.475,  0.475,  0.275,  0.65 ])"
      ]
     },
     "execution_count": 26,
     "metadata": {},
     "output_type": "execute_result"
    }
   ],
   "source": [
    "drops = start - football.column(1)\n",
    "drops"
   ]
  },
  {
   "cell_type": "code",
   "execution_count": 27,
   "metadata": {},
   "outputs": [],
   "source": [
    "football = football.select('Team').with_column(\n",
    "    'Drop', drops\n",
    ")"
   ]
  },
  {
   "cell_type": "code",
   "execution_count": 28,
   "metadata": {},
   "outputs": [
    {
     "data": {
      "text/html": [
       "<table border=\"1\" class=\"dataframe\">\n",
       "    <thead>\n",
       "        <tr>\n",
       "            <th>Team</th> <th>Drop</th>\n",
       "        </tr>\n",
       "    </thead>\n",
       "    <tbody>\n",
       "        <tr>\n",
       "            <td>Patriots</td> <td>0.85 </td>\n",
       "        </tr>\n",
       "        <tr>\n",
       "            <td>Patriots</td> <td>1.475</td>\n",
       "        </tr>\n",
       "        <tr>\n",
       "            <td>Patriots</td> <td>1.175</td>\n",
       "        </tr>\n",
       "        <tr>\n",
       "            <td>Patriots</td> <td>1.65 </td>\n",
       "        </tr>\n",
       "        <tr>\n",
       "            <td>Patriots</td> <td>1.225</td>\n",
       "        </tr>\n",
       "        <tr>\n",
       "            <td>Patriots</td> <td>0.725</td>\n",
       "        </tr>\n",
       "        <tr>\n",
       "            <td>Patriots</td> <td>0.425</td>\n",
       "        </tr>\n",
       "        <tr>\n",
       "            <td>Patriots</td> <td>1.175</td>\n",
       "        </tr>\n",
       "        <tr>\n",
       "            <td>Patriots</td> <td>1.35 </td>\n",
       "        </tr>\n",
       "        <tr>\n",
       "            <td>Patriots</td> <td>1.8  </td>\n",
       "        </tr>\n",
       "        <tr>\n",
       "            <td>Patriots</td> <td>1.375</td>\n",
       "        </tr>\n",
       "        <tr>\n",
       "            <td>Colts   </td> <td>0.475</td>\n",
       "        </tr>\n",
       "        <tr>\n",
       "            <td>Colts   </td> <td>0.475</td>\n",
       "        </tr>\n",
       "        <tr>\n",
       "            <td>Colts   </td> <td>0.275</td>\n",
       "        </tr>\n",
       "        <tr>\n",
       "            <td>Colts   </td> <td>0.65 </td>\n",
       "        </tr>\n",
       "    </tbody>\n",
       "</table>"
      ],
      "text/plain": [
       "<IPython.core.display.HTML object>"
      ]
     },
     "metadata": {},
     "output_type": "display_data"
    }
   ],
   "source": [
    "football.show()"
   ]
  },
  {
   "cell_type": "code",
   "execution_count": 29,
   "metadata": {},
   "outputs": [],
   "source": [
    "means_tbl = football.group('Team', np.average)"
   ]
  },
  {
   "cell_type": "code",
   "execution_count": 30,
   "metadata": {},
   "outputs": [
    {
     "data": {
      "text/html": [
       "<table border=\"1\" class=\"dataframe\">\n",
       "    <thead>\n",
       "        <tr>\n",
       "            <th>Team</th> <th>Drop average</th>\n",
       "        </tr>\n",
       "    </thead>\n",
       "    <tbody>\n",
       "        <tr>\n",
       "            <td>Colts   </td> <td>0.46875     </td>\n",
       "        </tr>\n",
       "        <tr>\n",
       "            <td>Patriots</td> <td>1.20227     </td>\n",
       "        </tr>\n",
       "    </tbody>\n",
       "</table>"
      ],
      "text/plain": [
       "Team     | Drop average\n",
       "Colts    | 0.46875\n",
       "Patriots | 1.20227"
      ]
     },
     "execution_count": 30,
     "metadata": {},
     "output_type": "execute_result"
    }
   ],
   "source": [
    "means_tbl"
   ]
  },
  {
   "cell_type": "code",
   "execution_count": 31,
   "metadata": {},
   "outputs": [],
   "source": [
    "means = means_tbl.column(1)\n",
    "observed_difference = means.item(0) - means.item(1)"
   ]
  },
  {
   "cell_type": "code",
   "execution_count": 32,
   "metadata": {},
   "outputs": [
    {
     "data": {
      "text/plain": [
       "-0.733522727272728"
      ]
     },
     "execution_count": 32,
     "metadata": {},
     "output_type": "execute_result"
    }
   ],
   "source": [
    "observed_difference"
   ]
  },
  {
   "cell_type": "code",
   "execution_count": 33,
   "metadata": {},
   "outputs": [],
   "source": [
    "group_labels = football.select('Team')\n",
    "drop_tbl = football.select('Drop')"
   ]
  },
  {
   "cell_type": "code",
   "execution_count": 34,
   "metadata": {},
   "outputs": [
    {
     "data": {
      "text/plain": [
       "0.06761363636363604"
      ]
     },
     "execution_count": 34,
     "metadata": {},
     "output_type": "execute_result"
    }
   ],
   "source": [
    "shuffled_drops = drop_tbl.sample(with_replacement=False).column(0)\n",
    "shuffled_tbl = group_labels.with_column('Shuffled Drop', shuffled_drops)\n",
    "means = shuffled_tbl.group('Team', np.average).column(1)\n",
    "new_difference = means.item(0) - means.item(1)\n",
    "new_difference"
   ]
  },
  {
   "cell_type": "code",
   "execution_count": 35,
   "metadata": {},
   "outputs": [],
   "source": [
    "differences = make_array()\n",
    "\n",
    "for i in np.arange(20000):\n",
    "    shuffled_drops = drop_tbl.sample(with_replacement=False).column(0)\n",
    "    shuffled_tbl = group_labels.with_column('Shuffled Drop', shuffled_drops)\n",
    "    means = shuffled_tbl.group('Team', np.average).column(1)\n",
    "    new_difference = means.item(0) - means.item(1)\n",
    "    differences = np.append(differences, new_difference)\n",
    "    "
   ]
  },
  {
   "cell_type": "code",
   "execution_count": 36,
   "metadata": {},
   "outputs": [
    {
     "data": {
      "image/png": "[encoded data removed]",
      "text/plain": [
       "<Figure size 600x400 with 1 Axes>"
      ]
     },
     "metadata": {},
     "output_type": "display_data"
    }
   ],
   "source": [
    "Table().with_column('Difference Between Means', differences).hist(ec='w')\n",
    "plots.scatter(observed_difference, 0, color='#F29191', s=40);"
   ]
  },
  {
   "cell_type": "code",
   "execution_count": 37,
   "metadata": {},
   "outputs": [
    {
     "data": {
      "text/plain": [
       "0.00255"
      ]
     },
     "execution_count": 37,
     "metadata": {},
     "output_type": "execute_result"
    }
   ],
   "source": [
    "np.count_nonzero(differences <= observed_difference) / 20000"
   ]
  }
 ],
 "metadata": {
  "kernelspec": {
   "display_name": ".env",
   "language": "python",
   "name": "python3"
  },
  "language_info": {
   "codemirror_mode": {
    "name": "ipython",
    "version": 3
   },
   "file_extension": ".py",
   "mimetype": "text/x-python",
   "name": "python",
   "nbconvert_exporter": "python",
   "pygments_lexer": "ipython3",
   "version": "3.13.0"
  }
 },
 "nbformat": 4,
 "nbformat_minor": 2
}
