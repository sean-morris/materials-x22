{
 "cells": [
  {
   "cell_type": "code",
   "execution_count": 15,
   "metadata": {},
   "outputs": [],
   "source": [
    "from datascience import *\n",
    "import numpy as np\n",
    "\n",
    "import matplotlib.pyplot as plots\n",
    "plots.style.use('fivethirtyeight')\n",
    "%matplotlib inline"
   ]
  },
  {
   "cell_type": "markdown",
   "metadata": {},
   "source": [
    "## Decisions and Uncertainty"
   ]
  },
  {
   "cell_type": "markdown",
   "metadata": {},
   "source": [
    "**Please run all cells before this cell, including the import cell at the top of the notebook.**"
   ]
  },
  {
   "cell_type": "code",
   "execution_count": 16,
   "metadata": {},
   "outputs": [
    {
     "data": {
      "text/html": [
       "<table border=\"1\" class=\"dataframe\">\n",
       "    <thead>\n",
       "        <tr>\n",
       "            <th>Section</th> <th>Midterm</th>\n",
       "        </tr>\n",
       "    </thead>\n",
       "    <tbody>\n",
       "        <tr>\n",
       "            <td>1      </td> <td>22     </td>\n",
       "        </tr>\n",
       "        <tr>\n",
       "            <td>2      </td> <td>12     </td>\n",
       "        </tr>\n",
       "        <tr>\n",
       "            <td>2      </td> <td>23     </td>\n",
       "        </tr>\n",
       "        <tr>\n",
       "            <td>2      </td> <td>14     </td>\n",
       "        </tr>\n",
       "        <tr>\n",
       "            <td>1      </td> <td>20     </td>\n",
       "        </tr>\n",
       "        <tr>\n",
       "            <td>3      </td> <td>25     </td>\n",
       "        </tr>\n",
       "        <tr>\n",
       "            <td>4      </td> <td>19     </td>\n",
       "        </tr>\n",
       "        <tr>\n",
       "            <td>1      </td> <td>24     </td>\n",
       "        </tr>\n",
       "        <tr>\n",
       "            <td>5      </td> <td>8      </td>\n",
       "        </tr>\n",
       "        <tr>\n",
       "            <td>6      </td> <td>14     </td>\n",
       "        </tr>\n",
       "    </tbody>\n",
       "</table>\n",
       "<p>... (349 rows omitted)</p>"
      ],
      "text/plain": [
       "Section | Midterm\n",
       "1       | 22\n",
       "2       | 12\n",
       "2       | 23\n",
       "2       | 14\n",
       "1       | 20\n",
       "3       | 25\n",
       "4       | 19\n",
       "1       | 24\n",
       "5       | 8\n",
       "6       | 14\n",
       "... (349 rows omitted)"
      ]
     },
     "execution_count": 16,
     "metadata": {},
     "output_type": "execute_result"
    }
   ],
   "source": [
    "scores = Table.read_table('scores_by_section.csv')\n",
    "scores"
   ]
  },
  {
   "cell_type": "code",
   "execution_count": 17,
   "metadata": {},
   "outputs": [
    {
     "data": {
      "text/html": [
       "<table border=\"1\" class=\"dataframe\">\n",
       "    <thead>\n",
       "        <tr>\n",
       "            <th>Section</th> <th>count</th>\n",
       "        </tr>\n",
       "    </thead>\n",
       "    <tbody>\n",
       "        <tr>\n",
       "            <td>1      </td> <td>32   </td>\n",
       "        </tr>\n",
       "        <tr>\n",
       "            <td>2      </td> <td>32   </td>\n",
       "        </tr>\n",
       "        <tr>\n",
       "            <td>3      </td> <td>27   </td>\n",
       "        </tr>\n",
       "        <tr>\n",
       "            <td>4      </td> <td>30   </td>\n",
       "        </tr>\n",
       "        <tr>\n",
       "            <td>5      </td> <td>33   </td>\n",
       "        </tr>\n",
       "        <tr>\n",
       "            <td>6      </td> <td>32   </td>\n",
       "        </tr>\n",
       "        <tr>\n",
       "            <td>7      </td> <td>24   </td>\n",
       "        </tr>\n",
       "        <tr>\n",
       "            <td>8      </td> <td>29   </td>\n",
       "        </tr>\n",
       "        <tr>\n",
       "            <td>9      </td> <td>30   </td>\n",
       "        </tr>\n",
       "        <tr>\n",
       "            <td>10     </td> <td>34   </td>\n",
       "        </tr>\n",
       "    </tbody>\n",
       "</table>\n",
       "<p>... (2 rows omitted)</p>"
      ],
      "text/plain": [
       "Section | count\n",
       "1       | 32\n",
       "2       | 32\n",
       "3       | 27\n",
       "4       | 30\n",
       "5       | 33\n",
       "6       | 32\n",
       "7       | 24\n",
       "8       | 29\n",
       "9       | 30\n",
       "10      | 34\n",
       "... (2 rows omitted)"
      ]
     },
     "execution_count": 17,
     "metadata": {},
     "output_type": "execute_result"
    }
   ],
   "source": [
    "scores.group('Section')"
   ]
  },
  {
   "cell_type": "code",
   "execution_count": 18,
   "metadata": {},
   "outputs": [
    {
     "data": {
      "text/html": [
       "<table border=\"1\" class=\"dataframe\">\n",
       "    <thead>\n",
       "        <tr>\n",
       "            <th>Section</th> <th>Midterm average</th>\n",
       "        </tr>\n",
       "    </thead>\n",
       "    <tbody>\n",
       "        <tr>\n",
       "            <td>1      </td> <td>15.5938        </td>\n",
       "        </tr>\n",
       "        <tr>\n",
       "            <td>2      </td> <td>15.125         </td>\n",
       "        </tr>\n",
       "        <tr>\n",
       "            <td>3      </td> <td>13.6667        </td>\n",
       "        </tr>\n",
       "        <tr>\n",
       "            <td>4      </td> <td>14.7667        </td>\n",
       "        </tr>\n",
       "        <tr>\n",
       "            <td>5      </td> <td>17.4545        </td>\n",
       "        </tr>\n",
       "        <tr>\n",
       "            <td>6      </td> <td>15.0312        </td>\n",
       "        </tr>\n",
       "        <tr>\n",
       "            <td>7      </td> <td>16.625         </td>\n",
       "        </tr>\n",
       "        <tr>\n",
       "            <td>8      </td> <td>16.3103        </td>\n",
       "        </tr>\n",
       "        <tr>\n",
       "            <td>9      </td> <td>14.5667        </td>\n",
       "        </tr>\n",
       "        <tr>\n",
       "            <td>10     </td> <td>15.2353        </td>\n",
       "        </tr>\n",
       "        <tr>\n",
       "            <td>11     </td> <td>15.8077        </td>\n",
       "        </tr>\n",
       "        <tr>\n",
       "            <td>12     </td> <td>15.7333        </td>\n",
       "        </tr>\n",
       "    </tbody>\n",
       "</table>"
      ],
      "text/plain": [
       "<IPython.core.display.HTML object>"
      ]
     },
     "metadata": {},
     "output_type": "display_data"
    }
   ],
   "source": [
    "scores.group('Section', np.average).show()"
   ]
  },
  {
   "cell_type": "code",
   "execution_count": 19,
   "metadata": {},
   "outputs": [],
   "source": [
    "# Null: The Section 3 average is like the average of 27 random scores from the class.\n",
    "\n",
    "# Alternative: No, it's too low."
   ]
  },
  {
   "cell_type": "code",
   "execution_count": 20,
   "metadata": {},
   "outputs": [],
   "source": [
    "# observed statistic\n",
    "\n",
    "observerd_average = 13.6667"
   ]
  },
  {
   "cell_type": "code",
   "execution_count": 21,
   "metadata": {},
   "outputs": [
    {
     "data": {
      "text/plain": [
       "14.222222222222221"
      ]
     },
     "execution_count": 21,
     "metadata": {},
     "output_type": "execute_result"
    }
   ],
   "source": [
    "np.average(scores.sample(27, with_replacement=False).column('Midterm'))"
   ]
  },
  {
   "cell_type": "code",
   "execution_count": 22,
   "metadata": {},
   "outputs": [],
   "source": [
    "averages = make_array()\n",
    "\n",
    "repetitions = 50000\n",
    "for i in np.arange(repetitions):\n",
    "    new_average = np.average(scores.sample(27, with_replacement=False).column('Midterm'))\n",
    "    averages = np.append(averages, new_average)"
   ]
  },
  {
   "cell_type": "code",
   "execution_count": 23,
   "metadata": {},
   "outputs": [
    {
     "data": {
      "image/png": "[encoded data removed]",
      "text/plain": [
       "<Figure size 600x400 with 1 Axes>"
      ]
     },
     "metadata": {},
     "output_type": "display_data"
    }
   ],
   "source": [
    "Table().with_column('Random Sample Average', averages).hist(bins = 25, ec='w')\n",
    "plots.scatter(observerd_average, 0, color='#F29191', s=30);"
   ]
  },
  {
   "cell_type": "code",
   "execution_count": 24,
   "metadata": {},
   "outputs": [
    {
     "data": {
      "text/plain": [
       "0.05536"
      ]
     },
     "execution_count": 24,
     "metadata": {},
     "output_type": "execute_result"
    }
   ],
   "source": [
    "np.count_nonzero(averages <= observerd_average) / repetitions"
   ]
  },
  {
   "cell_type": "code",
   "execution_count": 25,
   "metadata": {},
   "outputs": [
    {
     "data": {
      "text/plain": [
       "0.04832"
      ]
     },
     "execution_count": 25,
     "metadata": {},
     "output_type": "execute_result"
    }
   ],
   "source": [
    "np.count_nonzero(averages <= 13.6) / repetitions"
   ]
  },
  {
   "cell_type": "code",
   "execution_count": 26,
   "metadata": {},
   "outputs": [
    {
     "data": {
      "text/plain": [
       "[<matplotlib.lines.Line2D at 0x118e89f90>]"
      ]
     },
     "execution_count": 26,
     "metadata": {},
     "output_type": "execute_result"
    },
    {
     "data": {
      "image/png": "[encoded data removed]",
      "text/plain": [
       "<Figure size 600x400 with 1 Axes>"
      ]
     },
     "metadata": {},
     "output_type": "display_data"
    }
   ],
   "source": [
    "Table().with_column('Random Sample Average', averages).hist(bins = 25, ec='w')\n",
    "plots.scatter(observerd_average, 0, color='red', s=30)\n",
    "plots.plot([13.6, 13.6], [0, 0.35], lw=2)\n"
   ]
  }
 ],
 "metadata": {
  "kernelspec": {
   "display_name": ".env",
   "language": "python",
   "name": "python3"
  },
  "language_info": {
   "codemirror_mode": {
    "name": "ipython",
    "version": 3
   },
   "file_extension": ".py",
   "mimetype": "text/x-python",
   "name": "python",
   "nbconvert_exporter": "python",
   "pygments_lexer": "ipython3",
   "version": "3.13.0"
  }
 },
 "nbformat": 4,
 "nbformat_minor": 2
}
